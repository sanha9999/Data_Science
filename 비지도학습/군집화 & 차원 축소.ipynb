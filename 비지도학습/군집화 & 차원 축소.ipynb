{
 "cells": [
  {
   "cell_type": "markdown",
   "metadata": {},
   "source": [
    "# 고차원의 저주..\n",
    "\n",
    "> 고차원 공간은 우리가 직관적으로 이해하지 못하는 이상한 특징을 많이 가지고 있다. 예를 들어 이미지 데이터의 픽셀 값을 데이터로 받는다면 픽셀수가 데이터의 차원이 된다. 이렇게 고차원이 되면 우리가 직관적으로 이해할 수 없는 특징이 생기고, 결과적으로 알고리즘이 잘 작동하지 않는다. 이게 바로 **고차원의 저주**이다.\n",
    "\n",
    "> 고차원 공간에서는 표본간의 거리가 매우 멀다."
   ]
  },
  {
   "cell_type": "code",
   "execution_count": 1,
   "metadata": {},
   "outputs": [],
   "source": [
    "import numpy\n",
    "import scipy.spatial.distance"
   ]
  },
  {
   "cell_type": "code",
   "execution_count": 2,
   "metadata": {},
   "outputs": [],
   "source": [
    "import pandas as pd"
   ]
  },
  {
   "cell_type": "code",
   "execution_count": 3,
   "metadata": {},
   "outputs": [],
   "source": [
    "import matplotlib.pyplot as plt\n",
    "import matplotlib.font_manager as fm\n",
    "\n",
    "font_path = r'D:/font/NanumBarunpenB.ttf'\n",
    "fontprop = fm.FontProperties(fname=font_path, size=18)"
   ]
  },
  {
   "cell_type": "code",
   "execution_count": 4,
   "metadata": {
    "scrolled": true
   },
   "outputs": [
    {
     "data": {
      "image/png": "[encoded data removed]",
      "text/plain": [
       "<Figure size 432x288 with 1 Axes>"
      ]
     },
     "metadata": {
      "needs_background": "light"
     },
     "output_type": "display_data"
    }
   ],
   "source": [
    "d = 500\n",
    "data = numpy.random.uniform(size=d*1000).reshape((1000, d))\n",
    "distances = scipy.spatial.distance.cdist(data, data)\n",
    "pd.Series(distances.reshape(1000000)).hist(bins=50)\n",
    "plt.title(\"%i차원 공간에서 점 간 거리\" %d, fontproperties = fontprop)\n",
    "plt.show()"
   ]
  },
  {
   "cell_type": "markdown",
   "metadata": {},
   "source": [
    "# 아이겐 페이스와 차원축소\n",
    "\n",
    "### 데이터\n",
    "> 40명의 64 * 64 픽셀의 얼굴 이미지 파일을 1명당 10장씩 불러온다. 이 데이터는 64 * 64 = 4096차원 데이터이다."
   ]
  },
  {
   "cell_type": "code",
   "execution_count": 7,
   "metadata": {},
   "outputs": [],
   "source": [
    "import sklearn\n",
    "import sklearn.datasets as datasets\n",
    "from sklearn.decomposition import PCA\n",
    "from sklearn.cluster import KMeans\n",
    "from sklearn.metrics import silhouette_score, adjusted_rand_score\n",
    "from sklearn import metrics"
   ]
  },
  {
   "cell_type": "code",
   "execution_count": 8,
   "metadata": {},
   "outputs": [
    {
     "name": "stdout",
     "output_type": "stream",
     "text": [
      "downloading Olivetti faces from https://ndownloader.figshare.com/files/5976027 to C:\\Users\\user\\scikit_learn_data\n"
     ]
    },
    {
     "data": {
      "text/plain": [
       "array([ 0,  0,  0,  0,  0,  0,  0,  0,  0,  0,  1,  1,  1,  1,  1,  1,  1,\n",
       "        1,  1,  1,  2,  2,  2,  2,  2,  2,  2,  2,  2,  2,  3,  3,  3,  3,\n",
       "        3,  3,  3,  3,  3,  3,  4,  4,  4,  4,  4,  4,  4,  4,  4,  4,  5,\n",
       "        5,  5,  5,  5,  5,  5,  5,  5,  5,  6,  6,  6,  6,  6,  6,  6,  6,\n",
       "        6,  6,  7,  7,  7,  7,  7,  7,  7,  7,  7,  7,  8,  8,  8,  8,  8,\n",
       "        8,  8,  8,  8,  8,  9,  9,  9,  9,  9,  9,  9,  9,  9,  9, 10, 10,\n",
       "       10, 10, 10, 10, 10, 10, 10, 10, 11, 11, 11, 11, 11, 11, 11, 11, 11,\n",
       "       11, 12, 12, 12, 12, 12, 12, 12, 12, 12, 12, 13, 13, 13, 13, 13, 13,\n",
       "       13, 13, 13, 13, 14, 14, 14, 14, 14, 14, 14, 14, 14, 14, 15, 15, 15,\n",
       "       15, 15, 15, 15, 15, 15, 15, 16, 16, 16, 16, 16, 16, 16, 16, 16, 16,\n",
       "       17, 17, 17, 17, 17, 17, 17, 17, 17, 17, 18, 18, 18, 18, 18, 18, 18,\n",
       "       18, 18, 18, 19, 19, 19, 19, 19, 19, 19, 19, 19, 19, 20, 20, 20, 20,\n",
       "       20, 20, 20, 20, 20, 20, 21, 21, 21, 21, 21, 21, 21, 21, 21, 21, 22,\n",
       "       22, 22, 22, 22, 22, 22, 22, 22, 22, 23, 23, 23, 23, 23, 23, 23, 23,\n",
       "       23, 23, 24, 24, 24, 24, 24, 24, 24, 24, 24, 24, 25, 25, 25, 25, 25,\n",
       "       25, 25, 25, 25, 25, 26, 26, 26, 26, 26, 26, 26, 26, 26, 26, 27, 27,\n",
       "       27, 27, 27, 27, 27, 27, 27, 27, 28, 28, 28, 28, 28, 28, 28, 28, 28,\n",
       "       28, 29, 29, 29, 29, 29, 29, 29, 29, 29, 29, 30, 30, 30, 30, 30, 30,\n",
       "       30, 30, 30, 30, 31, 31, 31, 31, 31, 31, 31, 31, 31, 31, 32, 32, 32,\n",
       "       32, 32, 32, 32, 32, 32, 32, 33, 33, 33, 33, 33, 33, 33, 33, 33, 33,\n",
       "       34, 34, 34, 34, 34, 34, 34, 34, 34, 34, 35, 35, 35, 35, 35, 35, 35,\n",
       "       35, 35, 35, 36, 36, 36, 36, 36, 36, 36, 36, 36, 36, 37, 37, 37, 37,\n",
       "       37, 37, 37, 37, 37, 37, 38, 38, 38, 38, 38, 38, 38, 38, 38, 38, 39,\n",
       "       39, 39, 39, 39, 39, 39, 39, 39, 39])"
      ]
     },
     "execution_count": 8,
     "metadata": {},
     "output_type": "execute_result"
    }
   ],
   "source": [
    "# 데이터 불러오기\n",
    "face_data = datasets.fetch_olivetti_faces()\n",
    "person_ids, image_array = face_data['target'], face_data.images\n",
    "person_ids"
   ]
  },
  {
   "cell_type": "code",
   "execution_count": 9,
   "metadata": {},
   "outputs": [
    {
     "data": {
      "text/plain": [
       "array([[[0.30991736, 0.3677686 , 0.41735536, ..., 0.37190083,\n",
       "         0.3305785 , 0.30578512],\n",
       "        [0.3429752 , 0.40495867, 0.43801653, ..., 0.37190083,\n",
       "         0.338843  , 0.3140496 ],\n",
       "        [0.3429752 , 0.41735536, 0.45041323, ..., 0.38016528,\n",
       "         0.338843  , 0.29752067],\n",
       "        ...,\n",
       "        [0.21487603, 0.20661157, 0.2231405 , ..., 0.15289256,\n",
       "         0.16528925, 0.17355372],\n",
       "        [0.20247933, 0.2107438 , 0.2107438 , ..., 0.14876033,\n",
       "         0.16115703, 0.16528925],\n",
       "        [0.20247933, 0.20661157, 0.20247933, ..., 0.15289256,\n",
       "         0.16115703, 0.1570248 ]],\n",
       "\n",
       "       [[0.45454547, 0.47107437, 0.5123967 , ..., 0.19008264,\n",
       "         0.18595041, 0.18595041],\n",
       "        [0.446281  , 0.48347107, 0.5206612 , ..., 0.21487603,\n",
       "         0.2107438 , 0.2107438 ],\n",
       "        [0.49586776, 0.5165289 , 0.53305787, ..., 0.20247933,\n",
       "         0.20661157, 0.20661157],\n",
       "        ...,\n",
       "        [0.77272725, 0.78099173, 0.7933884 , ..., 0.1446281 ,\n",
       "         0.1446281 , 0.1446281 ],\n",
       "        [0.77272725, 0.7768595 , 0.7892562 , ..., 0.13636364,\n",
       "         0.13636364, 0.13636364],\n",
       "        [0.7644628 , 0.7892562 , 0.78099173, ..., 0.15289256,\n",
       "         0.15289256, 0.15289256]],\n",
       "\n",
       "       [[0.3181818 , 0.40082645, 0.49173555, ..., 0.40082645,\n",
       "         0.3553719 , 0.30991736],\n",
       "        [0.30991736, 0.3966942 , 0.47933885, ..., 0.40495867,\n",
       "         0.37603307, 0.30165288],\n",
       "        [0.26859504, 0.34710744, 0.45454547, ..., 0.3966942 ,\n",
       "         0.37190083, 0.30991736],\n",
       "        ...,\n",
       "        [0.1322314 , 0.09917355, 0.08264463, ..., 0.13636364,\n",
       "         0.14876033, 0.15289256],\n",
       "        [0.11570248, 0.09504132, 0.0785124 , ..., 0.1446281 ,\n",
       "         0.1446281 , 0.1570248 ],\n",
       "        [0.11157025, 0.09090909, 0.0785124 , ..., 0.14049587,\n",
       "         0.14876033, 0.15289256]],\n",
       "\n",
       "       ...,\n",
       "\n",
       "       [[0.5       , 0.53305787, 0.607438  , ..., 0.28512397,\n",
       "         0.23966943, 0.21487603],\n",
       "        [0.49173555, 0.5413223 , 0.60330576, ..., 0.29752067,\n",
       "         0.20247933, 0.20661157],\n",
       "        [0.46694216, 0.55785125, 0.6198347 , ..., 0.29752067,\n",
       "         0.17768595, 0.18595041],\n",
       "        ...,\n",
       "        [0.03305785, 0.46280992, 0.5289256 , ..., 0.17355372,\n",
       "         0.17355372, 0.1694215 ],\n",
       "        [0.1570248 , 0.5247934 , 0.53305787, ..., 0.16528925,\n",
       "         0.1570248 , 0.18595041],\n",
       "        [0.45454547, 0.5206612 , 0.53305787, ..., 0.17768595,\n",
       "         0.14876033, 0.19008264]],\n",
       "\n",
       "       [[0.21487603, 0.21900827, 0.21900827, ..., 0.71487606,\n",
       "         0.71487606, 0.6942149 ],\n",
       "        [0.20247933, 0.20661157, 0.20661157, ..., 0.7107438 ,\n",
       "         0.7066116 , 0.6942149 ],\n",
       "        [0.2107438 , 0.20661157, 0.20661157, ..., 0.6859504 ,\n",
       "         0.69008267, 0.6942149 ],\n",
       "        ...,\n",
       "        [0.2644628 , 0.25619835, 0.2603306 , ..., 0.5413223 ,\n",
       "         0.57438016, 0.59090906],\n",
       "        [0.26859504, 0.2644628 , 0.26859504, ..., 0.56198347,\n",
       "         0.58264464, 0.59504133],\n",
       "        [0.27272728, 0.26859504, 0.27272728, ..., 0.57438016,\n",
       "         0.59090906, 0.60330576]],\n",
       "\n",
       "       [[0.5165289 , 0.46280992, 0.28099173, ..., 0.5785124 ,\n",
       "         0.5413223 , 0.60330576],\n",
       "        [0.5165289 , 0.45041323, 0.29338843, ..., 0.58264464,\n",
       "         0.553719  , 0.5785124 ],\n",
       "        [0.5165289 , 0.44214877, 0.29338843, ..., 0.59917355,\n",
       "         0.5785124 , 0.54545456],\n",
       "        ...,\n",
       "        [0.39256197, 0.41322315, 0.38842976, ..., 0.33471075,\n",
       "         0.37190083, 0.3966942 ],\n",
       "        [0.39256197, 0.38429752, 0.40495867, ..., 0.3305785 ,\n",
       "         0.35950413, 0.37603307],\n",
       "        [0.3677686 , 0.40495867, 0.3966942 , ..., 0.35950413,\n",
       "         0.3553719 , 0.38429752]]], dtype=float32)"
      ]
     },
     "execution_count": 9,
     "metadata": {},
     "output_type": "execute_result"
    }
   ],
   "source": [
    "image_array"
   ]
  },
  {
   "cell_type": "code",
   "execution_count": 10,
   "metadata": {},
   "outputs": [],
   "source": [
    "# (64, 64) 크기의 데이터를 (4096, )으로 변환\n",
    "X = image_array.reshape((len(person_ids), 64*64))"
   ]
  },
  {
   "cell_type": "code",
   "execution_count": 11,
   "metadata": {},
   "outputs": [
    {
     "data": {
      "text/plain": [
       "array([[0.30991736, 0.3677686 , 0.41735536, ..., 0.15289256, 0.16115703,\n",
       "        0.1570248 ],\n",
       "       [0.45454547, 0.47107437, 0.5123967 , ..., 0.15289256, 0.15289256,\n",
       "        0.15289256],\n",
       "       [0.3181818 , 0.40082645, 0.49173555, ..., 0.14049587, 0.14876033,\n",
       "        0.15289256],\n",
       "       ...,\n",
       "       [0.5       , 0.53305787, 0.607438  , ..., 0.17768595, 0.14876033,\n",
       "        0.19008264],\n",
       "       [0.21487603, 0.21900827, 0.21900827, ..., 0.57438016, 0.59090906,\n",
       "        0.60330576],\n",
       "       [0.5165289 , 0.46280992, 0.28099173, ..., 0.35950413, 0.3553719 ,\n",
       "        0.38429752]], dtype=float32)"
      ]
     },
     "execution_count": 11,
     "metadata": {},
     "output_type": "execute_result"
    }
   ],
   "source": [
    "X"
   ]
  },
  {
   "cell_type": "code",
   "execution_count": 12,
   "metadata": {},
   "outputs": [
    {
     "data": {
      "text/plain": [
       "(400, 4096)"
      ]
     },
     "execution_count": 12,
     "metadata": {},
     "output_type": "execute_result"
    }
   ],
   "source": [
    "X.shape"
   ]
  },
  {
   "cell_type": "code",
   "execution_count": 13,
   "metadata": {},
   "outputs": [
    {
     "name": "stdout",
     "output_type": "stream",
     "text": [
      "** 원본 데이터 군집화 결과\n",
      "군집화 성능 :  0.14779206\n",
      "얼굴 일치율 :  0.37980420118809116\n"
     ]
    }
   ],
   "source": [
    "# 군집화 알고리즘 실행\n",
    "print(\"** 원본 데이터 군집화 결과\")\n",
    "model = KMeans(n_clusters=40)\n",
    "model.fit(X)\n",
    "\n",
    "print(\"군집화 성능 : \", silhouette_score(X, model.labels_))\n",
    "print(\"얼굴 일치율 : \", metrics.adjusted_rand_score(model.labels_, person_ids))"
   ]
  },
  {
   "cell_type": "code",
   "execution_count": 14,
   "metadata": {},
   "outputs": [
    {
     "name": "stdout",
     "output_type": "stream",
     "text": [
      "** 주성분 분석 후 군집화 결과\n",
      "군집화 성능 :  0.23836529\n",
      "얼굴 일치율 :  0.44757638661276816\n"
     ]
    }
   ],
   "source": [
    "# 주성분 분석 수행\n",
    "print(\"** 주성분 분석 후 군집화 결과\")\n",
    "pca = PCA(25) # 주성분은 25차원\n",
    "pca.fit(X)\n",
    "X_reduced = pca.transform(X)\n",
    "model_reduced = KMeans(n_clusters=40)\n",
    "model_reduced.fit(X_reduced)\n",
    "labels_reduced = model_reduced.labels_\n",
    "print(\"군집화 성능 : \", silhouette_score(X_reduced, model_reduced.labels_))\n",
    "print(\"얼굴 일치율 : \", metrics.adjusted_rand_score(model_reduced.labels_, person_ids))"
   ]
  },
  {
   "cell_type": "code",
   "execution_count": 15,
   "metadata": {
    "scrolled": true
   },
   "outputs": [
    {
     "data": {
      "image/png": "[encoded data removed]",
      "text/plain": [
       "<Figure size 432x288 with 1 Axes>"
      ]
     },
     "metadata": {
      "needs_background": "light"
     },
     "output_type": "display_data"
    }
   ],
   "source": [
    "# 이미지를 직접 보며 결과를 확인\n",
    "sample_face = image_array[0,:,:]\n",
    "plt.imshow(sample_face)\n",
    "plt.title(\"얼굴 예시\", fontproperties = fontprop)\n",
    "plt.show()"
   ]
  },
  {
   "cell_type": "markdown",
   "metadata": {},
   "source": [
    "# 아이겐 페이스??\n",
    "\n",
    "> 주성분의 분석의 결과로 나온 얼굴 사진의 가장 중요한 특징을 뽑아서 재구성한 얼굴이다. "
   ]
  },
  {
   "cell_type": "code",
   "execution_count": 19,
   "metadata": {},
   "outputs": [
    {
     "data": {
      "image/png": "[encoded data removed]",
      "text/plain": [
       "<Figure size 432x288 with 1 Axes>"
      ]
     },
     "metadata": {
      "needs_background": "light"
     },
     "output_type": "display_data"
    },
    {
     "data": {
      "image/png": "[encoded data removed]",
      "text/plain": [
       "<Figure size 432x288 with 1 Axes>"
      ]
     },
     "metadata": {
      "needs_background": "light"
     },
     "output_type": "display_data"
    }
   ],
   "source": [
    "# 아이겐 페이스 0 (첫번쨰 주성분)\n",
    "\n",
    "eigenface0 = pca.components_[0,:].reshape((64, 64))\n",
    "plt.imshow(eigenface0)\n",
    "plt.title(\"아이겐 페이스0\", fontproperties = fontprop)\n",
    "plt.show()\n",
    "\n",
    "# 아이겐 페이스 1\n",
    "\n",
    "eigenface1 =  pca.components_[1,:].reshape((64, 64))\n",
    "plt.imshow(eigenface1)\n",
    "plt.title(\"아이겐 페이스1\", fontproperties = fontprop)\n",
    "plt.show()"
   ]
  }
 ],
 "metadata": {
  "kernelspec": {
   "display_name": "Python 3",
   "language": "python",
   "name": "python3"
  },
  "language_info": {
   "codemirror_mode": {
    "name": "ipython",
    "version": 3
   },
   "file_extension": ".py",
   "mimetype": "text/x-python",
   "name": "python",
   "nbconvert_exporter": "python",
   "pygments_lexer": "ipython3",
   "version": "3.8.5"
  }
 },
 "nbformat": 4,
 "nbformat_minor": 4
}
